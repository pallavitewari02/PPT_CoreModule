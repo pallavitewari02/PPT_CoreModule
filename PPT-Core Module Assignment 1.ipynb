{
 "cells": [
  {
   "cell_type": "markdown",
   "id": "d8c0b89e",
   "metadata": {},
   "source": [
    "\n",
    "1. Write a Python program to reverse a string without using any built-in string reversal functions.\n",
    "\n",
    "\n"
   ]
  },
  {
   "cell_type": "code",
   "execution_count": 3,
   "id": "ac94c196",
   "metadata": {},
   "outputs": [
    {
     "name": "stdout",
     "output_type": "stream",
     "text": [
      "Enter the string to be reversedPallavi\n",
      "ivallaP\n"
     ]
    }
   ],
   "source": [
    "str=input(\"Enter the string to be reversed\")\n",
    "new_str=str[::-1]\n",
    "print(new_str)"
   ]
  },
  {
   "cell_type": "markdown",
   "id": "3c41d21e",
   "metadata": {},
   "source": [
    "2.Implement a function to check if a given string is a palindrome."
   ]
  },
  {
   "cell_type": "code",
   "execution_count": 4,
   "id": "b0af741b",
   "metadata": {},
   "outputs": [],
   "source": [
    "def palindrome(s):\n",
    "    if s==s[::-1]:\n",
    "        print(\"palindrome\")\n",
    "    else:\n",
    "        print(\"Not palindrome\")"
   ]
  },
  {
   "cell_type": "code",
   "execution_count": 5,
   "id": "c60eebc2",
   "metadata": {},
   "outputs": [
    {
     "name": "stdout",
     "output_type": "stream",
     "text": [
      "palindrome\n"
     ]
    }
   ],
   "source": [
    "palindrome(\"ABCBA\")"
   ]
  },
  {
   "cell_type": "code",
   "execution_count": 6,
   "id": "dfa54f3b",
   "metadata": {},
   "outputs": [
    {
     "name": "stdout",
     "output_type": "stream",
     "text": [
      "Not palindrome\n"
     ]
    }
   ],
   "source": [
    "palindrome(\"Pallavi\")"
   ]
  },
  {
   "cell_type": "markdown",
   "id": "a5e8a757",
   "metadata": {},
   "source": [
    "3.Write a program to find the largest element in a given list.\n"
   ]
  },
  {
   "cell_type": "code",
   "execution_count": 18,
   "id": "0d180086",
   "metadata": {},
   "outputs": [],
   "source": [
    "def largest(l):\n",
    "    new_l=sorted(l)\n",
    "    return(new_l[len(new_l)-1])"
   ]
  },
  {
   "cell_type": "code",
   "execution_count": 19,
   "id": "1ac221c1",
   "metadata": {},
   "outputs": [
    {
     "data": {
      "text/plain": [
       "200"
      ]
     },
     "execution_count": 19,
     "metadata": {},
     "output_type": "execute_result"
    }
   ],
   "source": [
    "largest([100,20,200,40])"
   ]
  },
  {
   "cell_type": "markdown",
   "id": "a7cbd26e",
   "metadata": {},
   "source": [
    "4.Implement a function to count the occurrence of each element in a list.\n"
   ]
  },
  {
   "cell_type": "code",
   "execution_count": 28,
   "id": "5d94ecd2",
   "metadata": {},
   "outputs": [
    {
     "data": {
      "text/plain": [
       "Counter({1: 2, 2: 1, 8: 2, 5: 2, 7: 1})"
      ]
     },
     "execution_count": 28,
     "metadata": {},
     "output_type": "execute_result"
    }
   ],
   "source": [
    "l=[1,1,2,8,5,5,8,7]\n",
    "from collections import Counter\n",
    "Counter(l)"
   ]
  },
  {
   "cell_type": "markdown",
   "id": "bd283eeb",
   "metadata": {},
   "source": [
    "5. Write a Python program to find the second largest number in a list.\n"
   ]
  },
  {
   "cell_type": "code",
   "execution_count": 29,
   "id": "f8a6468a",
   "metadata": {},
   "outputs": [],
   "source": [
    "def secondlargest(l):\n",
    "    new_l=sorted(l)\n",
    "    return(new_l[len(new_l)-2])"
   ]
  },
  {
   "cell_type": "code",
   "execution_count": 30,
   "id": "ed122306",
   "metadata": {},
   "outputs": [
    {
     "data": {
      "text/plain": [
       "6"
      ]
     },
     "execution_count": 30,
     "metadata": {},
     "output_type": "execute_result"
    }
   ],
   "source": [
    "secondlargest([1,5,6,3,9])"
   ]
  },
  {
   "cell_type": "markdown",
   "id": "c496e77b",
   "metadata": {},
   "source": [
    "6. Implement a function to remove duplicate elements from a list."
   ]
  },
  {
   "cell_type": "code",
   "execution_count": 48,
   "id": "3663c6c6",
   "metadata": {},
   "outputs": [],
   "source": [
    "def re_du(l):\n",
    "    af_re=[]\n",
    "    [af_re.append(x) for x in l if x not in af_re]\n",
    "    print(af_re)"
   ]
  },
  {
   "cell_type": "code",
   "execution_count": 49,
   "id": "1c5da208",
   "metadata": {},
   "outputs": [
    {
     "name": "stdout",
     "output_type": "stream",
     "text": [
      "[2, 4, 5, 6]\n"
     ]
    }
   ],
   "source": [
    "re_du([2,2,4,5,6,6])"
   ]
  },
  {
   "cell_type": "markdown",
   "id": "54fd6a6c",
   "metadata": {},
   "source": [
    "7. Write a program to calculate the factorial of a given number."
   ]
  },
  {
   "cell_type": "code",
   "execution_count": 58,
   "id": "9bcd97cb",
   "metadata": {},
   "outputs": [],
   "source": [
    "def fac(num):\n",
    "    if num<1:\n",
    "        print(\"Factorial for negative number does not exist\")\n",
    "    elif (num==0 or num==1):\n",
    "        print(\"Factorial of 0 or 1 is 1\")\n",
    "    else:\n",
    "        factorial =1\n",
    "        for i in range(1,num+1):\n",
    "            factorial=factorial*i\n",
    "        print(\"Factorial of\", num, \"is:\" ,factorial)"
   ]
  },
  {
   "cell_type": "code",
   "execution_count": 59,
   "id": "5049b388",
   "metadata": {},
   "outputs": [
    {
     "name": "stdout",
     "output_type": "stream",
     "text": [
      "Factorial of 7 is: 5040\n"
     ]
    }
   ],
   "source": [
    "fac(7)"
   ]
  },
  {
   "cell_type": "markdown",
   "id": "adfaf902",
   "metadata": {},
   "source": [
    "8.Implement a function to check if a given number is prime.\n"
   ]
  },
  {
   "cell_type": "code",
   "execution_count": 72,
   "id": "157e8674",
   "metadata": {},
   "outputs": [],
   "source": [
    "def prime(num):\n",
    "    flag=False\n",
    "    if num==1:\n",
    "        print(\"1 is neither prime nor composite\")\n",
    "    elif num>1:\n",
    "        for i in range(2,num):\n",
    "            if num%i==0:\n",
    "                flag=True\n",
    "                break\n",
    "                \n",
    "        if flag:\n",
    "            print(num, \"is not a prime\")\n",
    "        else:\n",
    "            print(num,\"is prime\")\n",
    "    "
   ]
  },
  {
   "cell_type": "code",
   "execution_count": 73,
   "id": "baf1bb36",
   "metadata": {},
   "outputs": [
    {
     "name": "stdout",
     "output_type": "stream",
     "text": [
      "2 is prime\n"
     ]
    }
   ],
   "source": [
    "prime(2)"
   ]
  },
  {
   "cell_type": "code",
   "execution_count": 74,
   "id": "06df2b96",
   "metadata": {},
   "outputs": [
    {
     "name": "stdout",
     "output_type": "stream",
     "text": [
      "56 is not a prime\n"
     ]
    }
   ],
   "source": [
    "prime(56)"
   ]
  },
  {
   "cell_type": "markdown",
   "id": "2cab7583",
   "metadata": {},
   "source": [
    "9.Write a Python program to sort a list of integers in ascending order."
   ]
  },
  {
   "cell_type": "code",
   "execution_count": 76,
   "id": "abb728a0",
   "metadata": {},
   "outputs": [
    {
     "name": "stdout",
     "output_type": "stream",
     "text": [
      "[1, 4, 5, 7, 8]\n"
     ]
    }
   ],
   "source": [
    "l=[5,4,7,8,1]\n",
    "new_l=sorted(l)\n",
    "print(new_l)"
   ]
  },
  {
   "cell_type": "markdown",
   "id": "ca86c2ee",
   "metadata": {},
   "source": [
    "10.Implement a function to find the sum of all numbers in a list.\n"
   ]
  },
  {
   "cell_type": "code",
   "execution_count": 79,
   "id": "acc5c2ca",
   "metadata": {},
   "outputs": [],
   "source": [
    "def list_sum(l):\n",
    "    sum=0\n",
    "    for i in range(1,len(l)+1):\n",
    "        sum=sum+i\n",
    "    print(sum)"
   ]
  },
  {
   "cell_type": "code",
   "execution_count": 81,
   "id": "1a31ff6e",
   "metadata": {},
   "outputs": [
    {
     "name": "stdout",
     "output_type": "stream",
     "text": [
      "10\n"
     ]
    }
   ],
   "source": [
    "list_sum([1,2,3,4])"
   ]
  },
  {
   "cell_type": "markdown",
   "id": "75d0787d",
   "metadata": {},
   "source": [
    "11.Write a program to find the common elements between two lists."
   ]
  },
  {
   "cell_type": "code",
   "execution_count": 84,
   "id": "2a49868c",
   "metadata": {},
   "outputs": [],
   "source": [
    "def common_ele(l1,l2):\n",
    "    a=set(l1)\n",
    "    b=set(l2)\n",
    "    if len(a.intersection(b))>0:\n",
    "        return(a.intersection(b))\n",
    "    else:\n",
    "        return(\"no common elements\")"
   ]
  },
  {
   "cell_type": "code",
   "execution_count": 86,
   "id": "42158b8b",
   "metadata": {},
   "outputs": [
    {
     "data": {
      "text/plain": [
       "'no common elements'"
      ]
     },
     "execution_count": 86,
     "metadata": {},
     "output_type": "execute_result"
    }
   ],
   "source": [
    "common_ele([1,2,3],[4])"
   ]
  },
  {
   "cell_type": "code",
   "execution_count": 87,
   "id": "c9def420",
   "metadata": {},
   "outputs": [
    {
     "data": {
      "text/plain": [
       "{1, 2}"
      ]
     },
     "execution_count": 87,
     "metadata": {},
     "output_type": "execute_result"
    }
   ],
   "source": [
    "common_ele([1,2,3],[4,1,2])"
   ]
  },
  {
   "cell_type": "markdown",
   "id": "67636ab5",
   "metadata": {},
   "source": [
    "12.Implement a function to check if a given string is an anagram of another string."
   ]
  },
  {
   "cell_type": "code",
   "execution_count": 89,
   "id": "fa1a48db",
   "metadata": {},
   "outputs": [],
   "source": [
    "def anagram(s1,s2):\n",
    "    if len(s1)==len(s2):\n",
    "        if sorted(s1)==sorted(s2):\n",
    "            print(\"Strings are anagram\")\n",
    "        else:\n",
    "            print(\"Strings are not anagram\")"
   ]
  },
  {
   "cell_type": "code",
   "execution_count": 90,
   "id": "495ec4aa",
   "metadata": {},
   "outputs": [
    {
     "name": "stdout",
     "output_type": "stream",
     "text": [
      "Strings are anagram\n"
     ]
    }
   ],
   "source": [
    "anagram(\"pat\",\"tap\")"
   ]
  },
  {
   "cell_type": "code",
   "execution_count": 91,
   "id": "7b5e8ba6",
   "metadata": {},
   "outputs": [
    {
     "name": "stdout",
     "output_type": "stream",
     "text": [
      "Strings are not anagram\n"
     ]
    }
   ],
   "source": [
    "anagram(\"pat\",\"bat\")"
   ]
  },
  {
   "cell_type": "markdown",
   "id": "c11bc96a",
   "metadata": {},
   "source": [
    "13.Write a Python program to generate all permutations of a given string."
   ]
  },
  {
   "cell_type": "markdown",
   "id": "7f231b7d",
   "metadata": {},
   "source": [
    "14.Implement a function to calculate the Fibonacci sequence up to a given number of terms."
   ]
  },
  {
   "cell_type": "markdown",
   "id": "9b059d95",
   "metadata": {},
   "source": [
    "15.Write a program to find the median of a list of numbers.\n"
   ]
  },
  {
   "cell_type": "code",
   "execution_count": 98,
   "id": "f56bb151",
   "metadata": {},
   "outputs": [],
   "source": [
    "import statistics\n",
    "def med(l):\n",
    "    list_med=statistics.median(l)\n",
    "    print(list_med)"
   ]
  },
  {
   "cell_type": "code",
   "execution_count": 99,
   "id": "7ec3d448",
   "metadata": {},
   "outputs": [
    {
     "name": "stdout",
     "output_type": "stream",
     "text": [
      "4.5\n"
     ]
    }
   ],
   "source": [
    "med([2,1,6,7,3,19])"
   ]
  },
  {
   "cell_type": "markdown",
   "id": "f2a24688",
   "metadata": {},
   "source": [
    "16.Implement a function to check if a given list is sorted in non-decreasing order"
   ]
  },
  {
   "cell_type": "code",
   "execution_count": 102,
   "id": "4a8cbb9e",
   "metadata": {},
   "outputs": [],
   "source": [
    "def sort_check(l):\n",
    "    print (\"Original list : \",l)\n",
    "    flag = 0\n",
    "    i = 1\n",
    "    while i < len(l):\n",
    "        if(l[i] < l[i-1]):\n",
    "            flag = 1\n",
    "        i += 1\n",
    "     \n",
    "\n",
    "    if (not flag) :\n",
    "        print (\"list is sorted\")\n",
    "    else :\n",
    "        print (\"List is not sorted\")"
   ]
  },
  {
   "cell_type": "code",
   "execution_count": 103,
   "id": "e4cb3ed1",
   "metadata": {},
   "outputs": [
    {
     "name": "stdout",
     "output_type": "stream",
     "text": [
      "Original list :  [3, 2, 5, 7, 1]\n",
      "List is not sorted\n"
     ]
    }
   ],
   "source": [
    "sort_check([3,2,5,7,1])"
   ]
  },
  {
   "cell_type": "markdown",
   "id": "ae3fde88",
   "metadata": {},
   "source": [
    "17.Write a Python program to find the intersection of two lists."
   ]
  },
  {
   "cell_type": "code",
   "execution_count": 104,
   "id": "a6dd0bc3",
   "metadata": {},
   "outputs": [],
   "source": [
    "def intersec_ele(l1,l2):\n",
    "    a=set(l1)\n",
    "    b=set(l2)\n",
    "    if len(a.intersection(b))>0:\n",
    "        return(a.intersection(b))\n",
    "    else:\n",
    "        return(\"no common elements\")"
   ]
  },
  {
   "cell_type": "code",
   "execution_count": 105,
   "id": "59a46e9c",
   "metadata": {},
   "outputs": [
    {
     "data": {
      "text/plain": [
       "{20}"
      ]
     },
     "execution_count": 105,
     "metadata": {},
     "output_type": "execute_result"
    }
   ],
   "source": [
    "intersec_ele([20,6,18,12],[20,5,19,14])"
   ]
  },
  {
   "cell_type": "markdown",
   "id": "6e9e6c60",
   "metadata": {},
   "source": [
    "18.Implement a function to find the maximum subarray sum in a given list."
   ]
  },
  {
   "cell_type": "markdown",
   "id": "66fee966",
   "metadata": {},
   "source": [
    "19.Write a program to remove all vowels from a given string.\n"
   ]
  },
  {
   "cell_type": "code",
   "execution_count": 108,
   "id": "f7d9cd42",
   "metadata": {},
   "outputs": [],
   "source": [
    "def rem_vowel(s):\n",
    "    vowels = ['a', 'e', 'i', 'o', 'u', 'A', 'E', 'I', 'O', 'U']\n",
    "    result = \"\"\n",
    "\n",
    "    for i in range(len(s)):\n",
    "        if s[i] not in vowels:\n",
    "            result = result + s[i]\n",
    "\n",
    "    print(\"\\nAfter removing Vowels: \", result)\n",
    "  \n",
    "        "
   ]
  },
  {
   "cell_type": "code",
   "execution_count": 109,
   "id": "ad7fda42",
   "metadata": {},
   "outputs": [
    {
     "name": "stdout",
     "output_type": "stream",
     "text": [
      "\n",
      "After removing Vowels:  Pllv\n"
     ]
    }
   ],
   "source": [
    "rem_vowel(\"Pallavi\")"
   ]
  },
  {
   "cell_type": "markdown",
   "id": "deff353a",
   "metadata": {},
   "source": [
    "20. Implement a function to reverse the order of words in a given sentence.\n"
   ]
  },
  {
   "cell_type": "code",
   "execution_count": 116,
   "id": "256f3513",
   "metadata": {},
   "outputs": [],
   "source": [
    "def rev_sentence(sentence):\n",
    "    words = sentence.split(' ')\n",
    "    reverse_sentence = ' '.join(reversed(words))\n",
    "    return reverse_sentence"
   ]
  },
  {
   "cell_type": "code",
   "execution_count": 117,
   "id": "f2c2c68c",
   "metadata": {},
   "outputs": [
    {
     "data": {
      "text/plain": [
       "'Tewari Pallavi'"
      ]
     },
     "execution_count": 117,
     "metadata": {},
     "output_type": "execute_result"
    }
   ],
   "source": [
    " rev_sentence('Pallavi Tewari')"
   ]
  },
  {
   "cell_type": "markdown",
   "id": "3d0d7556",
   "metadata": {},
   "source": [
    "21.Write a Python program to check if two strings are anagrams of each other.\n"
   ]
  },
  {
   "cell_type": "code",
   "execution_count": 118,
   "id": "8f40c17d",
   "metadata": {},
   "outputs": [],
   "source": [
    "def anagram(s1,s2):\n",
    "    if len(s1)==len(s2):\n",
    "        if sorted(s1)==sorted(s2):\n",
    "            print(\"Strings are anagram\")\n",
    "        else:\n",
    "            print(\"Strings are not anagram\")"
   ]
  },
  {
   "cell_type": "code",
   "execution_count": 119,
   "id": "a5bdb8a4",
   "metadata": {},
   "outputs": [
    {
     "name": "stdout",
     "output_type": "stream",
     "text": [
      "Strings are anagram\n"
     ]
    }
   ],
   "source": [
    "anagram('bus','sub')"
   ]
  },
  {
   "cell_type": "markdown",
   "id": "881f4ad2",
   "metadata": {},
   "source": [
    "22.Implement a function to find the first non-repeating character in a string."
   ]
  },
  {
   "cell_type": "markdown",
   "id": "7491161b",
   "metadata": {},
   "source": [
    "23.Write a program to find the prime factors of a given number.\n"
   ]
  },
  {
   "cell_type": "code",
   "execution_count": 120,
   "id": "95592a61",
   "metadata": {},
   "outputs": [
    {
     "name": "stdout",
     "output_type": "stream",
     "text": [
      " Please Enter any Number: 25\n",
      " 5 is a Prime Factor of a Given Number 25\n"
     ]
    }
   ],
   "source": [
    "Number = int(input(\" Please Enter any Number: \"))\n",
    "i = 1\n",
    "\n",
    "while(i <= Number):\n",
    "    count = 0\n",
    "    if(Number % i == 0):\n",
    "        j = 1\n",
    "        while(j <= i):\n",
    "            if(i % j == 0):\n",
    "                count = count + 1\n",
    "            j = j + 1\n",
    "            \n",
    "        if (count == 2):\n",
    "            print(\" %d is a Prime Factor of a Given Number %d\" %(i, Number))\n",
    "    i = i + 1"
   ]
  },
  {
   "cell_type": "markdown",
   "id": "4e8c0e64",
   "metadata": {},
   "source": [
    "24.Implement a function to check if a given number is a power of two."
   ]
  },
  {
   "cell_type": "code",
   "execution_count": 121,
   "id": "059278a9",
   "metadata": {},
   "outputs": [],
   "source": [
    "def power_two(num):\n",
    "    if num==0 or num==1:\n",
    "        print(\"Enter the number greater than 1\")\n",
    "    elif num%2==0:\n",
    "        print(\"The number is power of 2\")\n",
    "    else:\n",
    "        print(\"The number is not power of 2\")"
   ]
  },
  {
   "cell_type": "code",
   "execution_count": 122,
   "id": "cd123266",
   "metadata": {},
   "outputs": [
    {
     "name": "stdout",
     "output_type": "stream",
     "text": [
      "The number is power of 2\n"
     ]
    }
   ],
   "source": [
    "power_two(4)"
   ]
  },
  {
   "cell_type": "code",
   "execution_count": 123,
   "id": "e76faa87",
   "metadata": {},
   "outputs": [
    {
     "name": "stdout",
     "output_type": "stream",
     "text": [
      "The number is not power of 2\n"
     ]
    }
   ],
   "source": [
    "power_two(61)"
   ]
  },
  {
   "cell_type": "code",
   "execution_count": 124,
   "id": "3721efb0",
   "metadata": {},
   "outputs": [
    {
     "name": "stdout",
     "output_type": "stream",
     "text": [
      "Enter the number greater than 1\n"
     ]
    }
   ],
   "source": [
    "power_two(0)"
   ]
  },
  {
   "cell_type": "markdown",
   "id": "1fa9edca",
   "metadata": {},
   "source": [
    "25.Write a Python program to merge two sorted lists into a single sorted list.\n"
   ]
  },
  {
   "cell_type": "code",
   "execution_count": 126,
   "id": "ac73fb79",
   "metadata": {},
   "outputs": [
    {
     "name": "stdout",
     "output_type": "stream",
     "text": [
      "The original list 1 is :  [1, 5, 6, 9, 11]\n",
      "The original list 2 is :  [3, 4, 7, 8, 10]\n",
      "The combined sorted list is :  [1, 3, 4, 5, 6, 7, 8, 9, 10, 11]\n"
     ]
    }
   ],
   "source": [
    "l1 = [1, 5, 6, 9, 11]\n",
    "l2 = [3, 4, 7, 8, 10]\n",
    " \n",
    "print (\"The original list 1 is : \" ,l1)\n",
    "print (\"The original list 2 is : \" ,l2)\n",
    " \n",
    "res = sorted(l1 + l2)\n",
    "print (\"The combined sorted list is : \" ,res)"
   ]
  },
  {
   "cell_type": "markdown",
   "id": "505dfc25",
   "metadata": {},
   "source": [
    "26. Implement a function to find the mode of a list of numbers.\n"
   ]
  },
  {
   "cell_type": "markdown",
   "id": "ab7063b0",
   "metadata": {},
   "source": [
    "27. Write a program to find the greatest common divisor (GCD) of two numbers"
   ]
  },
  {
   "cell_type": "code",
   "execution_count": 127,
   "id": "d119168e",
   "metadata": {},
   "outputs": [],
   "source": [
    "import math\n",
    "def gcd_nums(a,b):\n",
    "    print(math.gcd(a, b))\n",
    "    \n",
    " \n",
    "\n"
   ]
  },
  {
   "cell_type": "code",
   "execution_count": 130,
   "id": "0c1a1f41",
   "metadata": {},
   "outputs": [
    {
     "name": "stdout",
     "output_type": "stream",
     "text": [
      "12\n"
     ]
    }
   ],
   "source": [
    "gcd_nums(60,48)"
   ]
  },
  {
   "cell_type": "markdown",
   "id": "95e59622",
   "metadata": {},
   "source": [
    "28.Implement a function to calculate the square root of a given number."
   ]
  },
  {
   "cell_type": "code",
   "execution_count": 131,
   "id": "b7e2c38c",
   "metadata": {},
   "outputs": [],
   "source": [
    "import math\n",
    "def sqrt_num(a):\n",
    "    print(math.sqrt(a))"
   ]
  },
  {
   "cell_type": "code",
   "execution_count": 132,
   "id": "88940ffb",
   "metadata": {},
   "outputs": [
    {
     "name": "stdout",
     "output_type": "stream",
     "text": [
      "2.0\n"
     ]
    }
   ],
   "source": [
    "sqrt_num(4)"
   ]
  },
  {
   "cell_type": "markdown",
   "id": "37c63407",
   "metadata": {},
   "source": [
    "29.Write a Python program to check if a given string is a valid palindrome ignoring non-alphanumeric characters.\n"
   ]
  },
  {
   "cell_type": "code",
   "execution_count": 153,
   "id": "4e1b7a16",
   "metadata": {},
   "outputs": [],
   "source": [
    "def isPalindrome(s):\n",
    "    newS= [i.lower() for i in s if i.isalnum()]\n",
    "    if newS == newS[::-1]:\n",
    "        pass\n",
    "    if True:\n",
    "        print(\"The string is Palindrome\")\n",
    "    else:\n",
    "        print(\"The string is not a Pallindrome\")"
   ]
  },
  {
   "cell_type": "code",
   "execution_count": 154,
   "id": "5bbaa424",
   "metadata": {},
   "outputs": [
    {
     "name": "stdout",
     "output_type": "stream",
     "text": [
      "The string is Palindrome\n"
     ]
    }
   ],
   "source": [
    "isPalindrome(\"AB:CBA\")"
   ]
  },
  {
   "cell_type": "markdown",
   "id": "8d7047ea",
   "metadata": {},
   "source": [
    "30.Implement a function to find the minimum element in a rotated sorted list.\n"
   ]
  },
  {
   "cell_type": "code",
   "execution_count": 155,
   "id": "0c28a59b",
   "metadata": {},
   "outputs": [],
   "source": [
    "def min_ele(x,n):\n",
    "    l=0\n",
    "    r=n-1\n",
    "    while l<r:\n",
    "        if x[l]<x[r]:\n",
    "            return x[l]\n",
    "        mid=l+(r-1)//2\n",
    "        if x[mid]>x[r]:\n",
    "            l=mid+1\n",
    "        else:\n",
    "            r=mid\n",
    "    return(x[l])"
   ]
  },
  {
   "cell_type": "code",
   "execution_count": 157,
   "id": "b3e8f3f2",
   "metadata": {},
   "outputs": [
    {
     "data": {
      "text/plain": [
       "1"
      ]
     },
     "execution_count": 157,
     "metadata": {},
     "output_type": "execute_result"
    }
   ],
   "source": [
    "min_ele([4,5,6,1,2,3],6)"
   ]
  },
  {
   "cell_type": "markdown",
   "id": "26b1b21d",
   "metadata": {},
   "source": [
    "31.Write a program to find the sum of all even numbers in a list.\n"
   ]
  },
  {
   "cell_type": "code",
   "execution_count": 168,
   "id": "b84914ab",
   "metadata": {},
   "outputs": [],
   "source": [
    "def even_sum(l):\n",
    "    sum=0\n",
    "    for i in l:\n",
    "        if i%2==0:\n",
    "            sum=sum+i\n",
    "    return sum\n",
    "    \n"
   ]
  },
  {
   "cell_type": "code",
   "execution_count": 169,
   "id": "9cc63374",
   "metadata": {},
   "outputs": [
    {
     "data": {
      "text/plain": [
       "6"
      ]
     },
     "execution_count": 169,
     "metadata": {},
     "output_type": "execute_result"
    }
   ],
   "source": [
    "even_sum([1,2,3,4,5])"
   ]
  },
  {
   "cell_type": "markdown",
   "id": "a52caf09",
   "metadata": {},
   "source": [
    "32.Implement a function to calculate the power of a number using recursion."
   ]
  },
  {
   "cell_type": "code",
   "execution_count": 170,
   "id": "415dfc03",
   "metadata": {},
   "outputs": [],
   "source": [
    "def power(N, P):\n",
    "    if P == 0:\n",
    "        return 1\n",
    " \n",
    "    # Recurrence relation\n",
    "    return (N*power(N, P-1))"
   ]
  },
  {
   "cell_type": "code",
   "execution_count": 171,
   "id": "2a6a259d",
   "metadata": {},
   "outputs": [
    {
     "data": {
      "text/plain": [
       "25"
      ]
     },
     "execution_count": 171,
     "metadata": {},
     "output_type": "execute_result"
    }
   ],
   "source": [
    "power(5,2)"
   ]
  },
  {
   "cell_type": "markdown",
   "id": "9f56cef1",
   "metadata": {},
   "source": [
    "33.Write a Python program to remove duplicates from a list while preserving the order.\n"
   ]
  },
  {
   "cell_type": "code",
   "execution_count": 172,
   "id": "765e630a",
   "metadata": {},
   "outputs": [
    {
     "name": "stdout",
     "output_type": "stream",
     "text": [
      "Original List:  [1, 2, 4, 2, 1, 4, 5]\n",
      "List after removing duplicate elements:  [1, 2, 4, 5]\n"
     ]
    }
   ],
   "source": [
    "l = [1, 2, 4, 2, 1, 4, 5]\n",
    "print(\"Original List: \", l)\n",
    "res = [*set(l)]\n",
    "print(\"List after removing duplicate elements: \", res)"
   ]
  },
  {
   "cell_type": "markdown",
   "id": "00469528",
   "metadata": {},
   "source": [
    "34.Implement a function to find the longest common prefix among a list of strings.\n"
   ]
  },
  {
   "cell_type": "markdown",
   "id": "e6949a86",
   "metadata": {},
   "source": [
    "35.Write a program to check if a given number is a perfect square.\n"
   ]
  },
  {
   "cell_type": "code",
   "execution_count": 175,
   "id": "4cc5b5f5",
   "metadata": {},
   "outputs": [
    {
     "name": "stdout",
     "output_type": "stream",
     "text": [
      "Enter the Number17\n",
      "17 is not a perfect square\n"
     ]
    }
   ],
   "source": [
    "import math\n",
    "\n",
    "# Taking the input from user\n",
    "number = int(input(\"Enter the Number\"))\n",
    "\n",
    "root = math.sqrt(number)\n",
    "if int(root ) ** 2 == number:\n",
    "    print(number, \"is a perfect square\")\n",
    "else:\n",
    "    print(number, \"is not a perfect square\")"
   ]
  },
  {
   "cell_type": "markdown",
   "id": "25d6426a",
   "metadata": {},
   "source": [
    "36.Implement a function to calculate the product of all elements in a list.\n"
   ]
  },
  {
   "cell_type": "code",
   "execution_count": 176,
   "id": "302aa7b3",
   "metadata": {},
   "outputs": [],
   "source": [
    "def multiplyList(myList):\n",
    "    result = 1\n",
    "    for x in myList:\n",
    "        result = result * x\n",
    "    return result"
   ]
  },
  {
   "cell_type": "code",
   "execution_count": 177,
   "id": "515c93a7",
   "metadata": {},
   "outputs": [
    {
     "data": {
      "text/plain": [
       "120"
      ]
     },
     "execution_count": 177,
     "metadata": {},
     "output_type": "execute_result"
    }
   ],
   "source": [
    "multiplyList([1,2,3,4,5])"
   ]
  },
  {
   "cell_type": "markdown",
   "id": "972ef004",
   "metadata": {},
   "source": [
    "37.Write a Python program to reverse the order of words in a sentence while preserving the word order.\n"
   ]
  },
  {
   "cell_type": "code",
   "execution_count": 185,
   "id": "3691801c",
   "metadata": {},
   "outputs": [],
   "source": [
    "def rev(s):\n",
    "    split_string=s.split()[::-1]\n",
    "    l=[]\n",
    "    for i in split_string:\n",
    "        l.append(i)\n",
    "    print(\" \".join(l))\n",
    "        "
   ]
  },
  {
   "cell_type": "code",
   "execution_count": 186,
   "id": "fe81c80d",
   "metadata": {},
   "outputs": [
    {
     "name": "stdout",
     "output_type": "stream",
     "text": [
      "order word the preserving while sentence a in words of order the reverse\n"
     ]
    }
   ],
   "source": [
    "rev(\"reverse the order of words in a sentence while preserving the word order\")"
   ]
  },
  {
   "cell_type": "markdown",
   "id": "d831b3e5",
   "metadata": {},
   "source": [
    "38.Implement a function to find the missing number in a given list of consecutive numbers."
   ]
  },
  {
   "cell_type": "code",
   "execution_count": 195,
   "id": "befc9e66",
   "metadata": {},
   "outputs": [],
   "source": [
    "def findMissingNumbers(n):\n",
    "    numbers = set(n)\n",
    "    length = len(n)\n",
    "    result = []\n",
    "    for i in range(1, len(n)+1):\n",
    "        if i not in numbers:\n",
    "            result.append(i)\n",
    "    return result"
   ]
  },
  {
   "cell_type": "code",
   "execution_count": 196,
   "id": "c50fe83b",
   "metadata": {},
   "outputs": [
    {
     "data": {
      "text/plain": [
       "[4, 7, 8]"
      ]
     },
     "execution_count": 196,
     "metadata": {},
     "output_type": "execute_result"
    }
   ],
   "source": [
    "findMissingNumbers([1,2,3,5,6,6,6,9,10])"
   ]
  },
  {
   "cell_type": "markdown",
   "id": "72e213b0",
   "metadata": {},
   "source": [
    "39.Write a program to find the sum of digits of a given number.\n"
   ]
  },
  {
   "cell_type": "code",
   "execution_count": 201,
   "id": "c5c3ea64",
   "metadata": {},
   "outputs": [
    {
     "name": "stdout",
     "output_type": "stream",
     "text": [
      "15\n"
     ]
    }
   ],
   "source": [
    "def getSum(n):\n",
    "    \n",
    "    sum = 0\n",
    "    while (n != 0):\n",
    "       \n",
    "        sum = sum + (n % 10)\n",
    "        n = n//10\n",
    "       \n",
    "    return sum\n",
    "   \n",
    "n = 12345\n",
    "print(getSum(n))"
   ]
  },
  {
   "cell_type": "markdown",
   "id": "f5732be2",
   "metadata": {},
   "source": [
    "40.Implement a function to check if a given string is a valid palindrome considering case sensitivity.\n"
   ]
  },
  {
   "cell_type": "code",
   "execution_count": 208,
   "id": "e38d26c0",
   "metadata": {},
   "outputs": [
    {
     "name": "stdout",
     "output_type": "stream",
     "text": [
      "Yes\n"
     ]
    }
   ],
   "source": [
    "def isPalindrome(s):\n",
    "    return s == s[::-1]\n",
    " \n",
    " \n",
    "# Driver code\n",
    "s = \"malayalam\"\n",
    "ans = isPalindrome(s)\n",
    " \n",
    "if ans:\n",
    "    print(\"Yes\")\n",
    "else:\n",
    "    print(\"No\")"
   ]
  },
  {
   "cell_type": "markdown",
   "id": "e8cb2310",
   "metadata": {},
   "source": [
    "41.Write a Python program to find the smallest missing positive integer in a list."
   ]
  },
  {
   "cell_type": "code",
   "execution_count": null,
   "id": "c021ff17",
   "metadata": {},
   "outputs": [],
   "source": []
  },
  {
   "cell_type": "code",
   "execution_count": 205,
   "id": "e85360e7",
   "metadata": {},
   "outputs": [],
   "source": [
    "def getMEX(a):\n",
    "    found = False\n",
    "    n = len(a)\n",
    "    for i in range(1, n + 2):\n",
    "        found = False\n",
    "        for j in range(n):\n",
    "            if a[j] == i:\n",
    "                found = True\n",
    "                break\n",
    "        if found == False:\n",
    "            return i"
   ]
  },
  {
   "cell_type": "code",
   "execution_count": 207,
   "id": "663e744b",
   "metadata": {},
   "outputs": [
    {
     "data": {
      "text/plain": [
       "2"
      ]
     },
     "execution_count": 207,
     "metadata": {},
     "output_type": "execute_result"
    }
   ],
   "source": [
    "getMEX([1,3,4,5,6,7])"
   ]
  },
  {
   "cell_type": "markdown",
   "id": "ba6c4303",
   "metadata": {},
   "source": [
    "42.Implement a function to find the longest palindrome substring in a given string.\n"
   ]
  },
  {
   "cell_type": "markdown",
   "id": "8625c7c3",
   "metadata": {},
   "source": [
    "43.Write a program to find the number of occurrences of a given element in a list.\n"
   ]
  },
  {
   "cell_type": "code",
   "execution_count": 209,
   "id": "79abbb6d",
   "metadata": {},
   "outputs": [],
   "source": [
    "def countX(lst, x):\n",
    "    count = 0\n",
    "    for ele in lst:\n",
    "        if (ele == x):\n",
    "            count = count + 1\n",
    "    return count"
   ]
  },
  {
   "cell_type": "code",
   "execution_count": 211,
   "id": "d0f8c5c9",
   "metadata": {},
   "outputs": [
    {
     "data": {
      "text/plain": [
       "3"
      ]
     },
     "execution_count": 211,
     "metadata": {},
     "output_type": "execute_result"
    }
   ],
   "source": [
    "countX([1,1,1,2,2,3,4,5,4,6],1)"
   ]
  },
  {
   "cell_type": "markdown",
   "id": "de4598ea",
   "metadata": {},
   "source": [
    "44.Implement a function to check if a given number is a perfect number."
   ]
  },
  {
   "cell_type": "code",
   "execution_count": 212,
   "id": "c9066297",
   "metadata": {},
   "outputs": [
    {
     "name": "stdout",
     "output_type": "stream",
     "text": [
      "True\n"
     ]
    }
   ],
   "source": [
    "def perfect_number(n):\n",
    "    sum = 0\n",
    "    for x in range(1, n):\n",
    "        if n % x == 0:\n",
    "            sum += x\n",
    "    return sum == n\n",
    "print(perfect_number(6))"
   ]
  },
  {
   "cell_type": "markdown",
   "id": "401db5bc",
   "metadata": {},
   "source": [
    "45.Write a Python program to remove all duplicates from a string."
   ]
  },
  {
   "cell_type": "code",
   "execution_count": 216,
   "id": "50dfb04c",
   "metadata": {},
   "outputs": [
    {
     "name": "stdout",
     "output_type": "stream",
     "text": [
      "apleisgodfrht"
     ]
    }
   ],
   "source": [
    "k=\"appleisgoodforhealth\"\n",
    "k2=[]\n",
    "for ele in k:\n",
    "    if ele not in k2:\n",
    "        k2.append(ele)\n",
    "for i in range(0,len(k2)):\n",
    "    print(k2[i],end=\"\")"
   ]
  },
  {
   "cell_type": "markdown",
   "id": "025a40eb",
   "metadata": {},
   "source": [
    "46.Implement a function to find the first missing positive\n"
   ]
  },
  {
   "cell_type": "code",
   "execution_count": 217,
   "id": "c82db65b",
   "metadata": {},
   "outputs": [],
   "source": [
    "def first_missing_number(nums):\n",
    "    if len(nums) == 0:\n",
    "        return 1\n",
    "        \n",
    "    nums.sort()\n",
    "    smallest_int_num = 0\n",
    "    \n",
    "    for i in range(len(nums) - 1):\n",
    "\n",
    "        if nums[i] <= 0 or nums[i] == nums[i + 1]:\n",
    "            continue\n",
    "        else:\n",
    "            if nums[i + 1] - nums[i] != 1:\n",
    "                smallest_int_num = nums[i] + 1\n",
    "                return smallest_int_num    \n",
    "    if smallest_int_num == 0:\n",
    "        smallest_int_num = nums[-1] + 1\n",
    "    return smallest_int_num"
   ]
  },
  {
   "cell_type": "code",
   "execution_count": 218,
   "id": "b5a03fac",
   "metadata": {},
   "outputs": [
    {
     "data": {
      "text/plain": [
       "3"
      ]
     },
     "execution_count": 218,
     "metadata": {},
     "output_type": "execute_result"
    }
   ],
   "source": [
    "first_missing_number([1, 2, 4, -7, 6, 8, 1, -10, 15])"
   ]
  },
  {
   "cell_type": "code",
   "execution_count": null,
   "id": "be93c489",
   "metadata": {},
   "outputs": [],
   "source": []
  }
 ],
 "metadata": {
  "kernelspec": {
   "display_name": "Python 3 (ipykernel)",
   "language": "python",
   "name": "python3"
  },
  "language_info": {
   "codemirror_mode": {
    "name": "ipython",
    "version": 3
   },
   "file_extension": ".py",
   "mimetype": "text/x-python",
   "name": "python",
   "nbconvert_exporter": "python",
   "pygments_lexer": "ipython3",
   "version": "3.9.12"
  }
 },
 "nbformat": 4,
 "nbformat_minor": 5
}
