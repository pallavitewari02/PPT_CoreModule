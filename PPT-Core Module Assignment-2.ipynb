{
 "cells": [
  {
   "cell_type": "markdown",
   "id": "94e74c4c",
   "metadata": {},
   "source": [
    "Q1.Scenario: A company wants to analyze the sales performance of its products in different regions. They have collected the following data:\n",
    "   Region A: [10, 15, 12, 8, 14]\n",
    "   Region B: [18, 20, 16, 22, 25]\n",
    "   Calculate the mean sales for each region.\n"
   ]
  },
  {
   "cell_type": "code",
   "execution_count": 4,
   "id": "c480a5cf",
   "metadata": {},
   "outputs": [
    {
     "name": "stdout",
     "output_type": "stream",
     "text": [
      "11.8\n",
      "20.2\n"
     ]
    }
   ],
   "source": [
    "from statistics import mean \n",
    "\n",
    "Region_A = [10,15,12,8,14] \n",
    "Region_B=[18,20,16,22,25]\n",
    "\n",
    "Region_A_mean =mean(Region_A)\n",
    "Region_B_mean =mean(Region_B)\n",
    "\n",
    "print(Region_A_mean)\n",
    "print(Region_B_mean)\n"
   ]
  },
  {
   "cell_type": "markdown",
   "id": "43af5f3d",
   "metadata": {},
   "source": [
    "Q2.Scenario: A survey is conducted to measure customer satisfaction on a scale of 1 to 5. The data collected is as follows:\n",
    "   [4, 5, 2, 3, 5, 4, 3, 2, 4, 5]\n",
    "   Calculate the mode of the survey responses.\n"
   ]
  },
  {
   "cell_type": "code",
   "execution_count": 5,
   "id": "3053b190",
   "metadata": {},
   "outputs": [
    {
     "name": "stdout",
     "output_type": "stream",
     "text": [
      "Mode of given data set is 4\n"
     ]
    }
   ],
   "source": [
    "import statistics\n",
    "cust_satis=[4, 5, 2, 3, 5, 4, 3, 2, 4, 5]\n",
    "print(\"Mode of given data set is % s\" % (statistics.mode(cust_satis)))"
   ]
  },
  {
   "cell_type": "markdown",
   "id": "6731a679",
   "metadata": {},
   "source": [
    "Q3.Scenario: A company wants to compare the salaries of two departments. The salary data for Department A and Department B are as follows:\n",
    "   Department A: [5000, 6000, 5500, 7000]\n",
    "   Department B: [4500, 5500, 5800, 6000, 5200]\n",
    "   Calculate the median salary for each department.\n"
   ]
  },
  {
   "cell_type": "code",
   "execution_count": 6,
   "id": "90424c9b",
   "metadata": {},
   "outputs": [
    {
     "name": "stdout",
     "output_type": "stream",
     "text": [
      "Median Sal of depart A is 5750.0\n",
      "Median Sal of depart B is 5500\n"
     ]
    }
   ],
   "source": [
    "import statistics\n",
    "sal_A=[5000, 6000, 5500, 7000]\n",
    "sal_B=[4500, 5500, 5800, 6000, 5200]\n",
    "print(\"Median Sal of depart A is % s\" % (statistics.median(sal_A)))\n",
    "print(\"Median Sal of depart B is % s\" % (statistics.median(sal_B)))\n"
   ]
  },
  {
   "cell_type": "markdown",
   "id": "9872a11d",
   "metadata": {},
   "source": [
    "Q4.Scenario: A data analyst wants to determine the variability in the daily stock prices of a company. The data collected is as follows:\n",
    "   [25.5, 24.8, 26.1, 25.3, 24.9]\n",
    "   Calculate the range of the stock prices.\n"
   ]
  },
  {
   "cell_type": "code",
   "execution_count": 14,
   "id": "8a7f8369",
   "metadata": {},
   "outputs": [
    {
     "name": "stdout",
     "output_type": "stream",
     "text": [
      "24.8\n",
      "26.1\n",
      "The range of data is 1.3000000000000007\n"
     ]
    }
   ],
   "source": [
    "data=[25.5, 24.8, 26.1, 25.3, 24.9]\n",
    "print(min(data))\n",
    "print(max(data))\n",
    "print(\"The range of data is % s\" % ((max(data)-min(data))))"
   ]
  },
  {
   "cell_type": "markdown",
   "id": "782311ba",
   "metadata": {},
   "source": [
    "Q5.Scenario: A study is conducted to compare the performance of two different teaching methods. The test scores of the students in each group are as follows:\n",
    "   Group A: [85, 90, 92, 88, 91]\n",
    "   Group B: [82, 88, 90, 86, 87]\n",
    "   Perform a t-test to determine if there is a significant difference in the mean scores between the two groups.\n"
   ]
  },
  {
   "cell_type": "markdown",
   "id": "a2d5c0b1",
   "metadata": {},
   "source": [
    "Q6.Scenario: A company wants to analyze the relationship between advertising expenditure and sales. The data collected is as follows:\n",
    "   Advertising Expenditure (in thousands): [10, 15, 12, 8, 14]\n",
    "   Sales (in thousands): [25, 30, 28, 20, 26]\n",
    "   Calculate the correlation coefficient between advertising expenditure and sales.\n"
   ]
  },
  {
   "cell_type": "code",
   "execution_count": 15,
   "id": "65c90a73",
   "metadata": {},
   "outputs": [
    {
     "data": {
      "text/plain": [
       "array([[1.        , 0.87575114],\n",
       "       [0.87575114, 1.        ]])"
      ]
     },
     "execution_count": 15,
     "metadata": {},
     "output_type": "execute_result"
    }
   ],
   "source": [
    "import numpy as np\n",
    "Adver_Expen=[10, 15, 12, 8, 14]\n",
    "sales=[25, 30, 28, 20, 26]\n",
    "\n",
    "np.corrcoef(Adver_Expen,sales)"
   ]
  },
  {
   "cell_type": "markdown",
   "id": "70d8113c",
   "metadata": {},
   "source": [
    "Q7.Scenario: A survey is conducted to measure the heights of a group of people. The data collected is as follows:\n",
    "   [160, 170, 165, 155, 175, 180, 170]\n",
    "   Calculate the standard deviation of the heights.\n"
   ]
  },
  {
   "cell_type": "code",
   "execution_count": 16,
   "id": "757cfaf9",
   "metadata": {},
   "outputs": [
    {
     "name": "stdout",
     "output_type": "stream",
     "text": [
      "The standard deviation is :7.953949089757174\n"
     ]
    }
   ],
   "source": [
    "import statistics as st\n",
    "data=[160, 170, 165, 155, 175, 180, 170]\n",
    "sd=st.pstdev(data)\n",
    "print(\"The standard deviation is :\" + str(sd))"
   ]
  },
  {
   "cell_type": "markdown",
   "id": "8a7f8829",
   "metadata": {},
   "source": [
    "Q8.Scenario: A company wants to analyze the relationship between employee tenure and job satisfaction. The data collected is as follows:\n",
    "   Employee Tenure (in years): [2, 3, 5, 4, 6, 2, 4]\n",
    "   Job Satisfaction (on a scale of 1 to 10): [7, 8, 6, 9, 5, 7, 6]\n",
    "   Perform a linear regression analysis to predict job satisfaction based on employee tenure.\n"
   ]
  },
  {
   "cell_type": "code",
   "execution_count": 25,
   "id": "30204fc6",
   "metadata": {},
   "outputs": [
    {
     "data": {
      "text/plain": [
       "LinearRegression()"
      ]
     },
     "execution_count": 25,
     "metadata": {},
     "output_type": "execute_result"
    }
   ],
   "source": [
    "import numpy as np\n",
    "import matplotlib.pyplot as plt\n",
    "from sklearn.linear_model import LinearRegression\n",
    "\n",
    "x=np.array([2, 3, 5, 4, 6, 2, 4])\n",
    "y=np.array([7, 8, 6, 9, 5, 7, 6])\n",
    "\n",
    "linreg=LinearRegression()\n",
    "\n",
    "X=x.reshape(-1,1)\n",
    "linreg.fit(X,y)\n"
   ]
  },
  {
   "cell_type": "code",
   "execution_count": 26,
   "id": "c5125574",
   "metadata": {},
   "outputs": [],
   "source": [
    "y_pred=linreg.predict(X)"
   ]
  },
  {
   "cell_type": "code",
   "execution_count": 27,
   "id": "2b7b0258",
   "metadata": {},
   "outputs": [
    {
     "data": {
      "text/plain": [
       "[<matplotlib.lines.Line2D at 0x2b15ce04e20>]"
      ]
     },
     "execution_count": 27,
     "metadata": {},
     "output_type": "execute_result"
    },
    {
     "data": {
      "image/png": "[encoded data removed]",
      "text/plain": [
       "<Figure size 432x288 with 1 Axes>"
      ]
     },
     "metadata": {
      "needs_background": "light"
     },
     "output_type": "display_data"
    }
   ],
   "source": [
    "plt.scatter(X,y)\n",
    "plt.plot(X,y_pred,color='red')"
   ]
  },
  {
   "cell_type": "code",
   "execution_count": 28,
   "id": "63bf1ab1",
   "metadata": {},
   "outputs": [
    {
     "name": "stdout",
     "output_type": "stream",
     "text": [
      "[-0.46808511]\n"
     ]
    }
   ],
   "source": [
    "print(linreg.coef_)"
   ]
  },
  {
   "cell_type": "code",
   "execution_count": 29,
   "id": "6e669978",
   "metadata": {},
   "outputs": [
    {
     "name": "stdout",
     "output_type": "stream",
     "text": [
      "8.595744680851062\n"
     ]
    }
   ],
   "source": [
    "print(linreg.intercept_)"
   ]
  },
  {
   "cell_type": "markdown",
   "id": "7bad17a4",
   "metadata": {},
   "source": [
    "### It provides statistical evidence of a negative relationship between the variables."
   ]
  },
  {
   "cell_type": "markdown",
   "id": "954fe36d",
   "metadata": {},
   "source": [
    "Q9.A study is conducted to compare the effectiveness of two different medications. The recovery times of the patients in each group are as follows:\n",
    "   Medication A: [10, 12, 14, 11, 13]\n",
    "   Medication B: [15, 17, 16, 14, 18]\n",
    "   Perform an analysis of variance (ANOVA) to determine if there is a significant difference in the mean recovery times between the two medications.\n"
   ]
  },
  {
   "cell_type": "code",
   "execution_count": 53,
   "id": "78d96089",
   "metadata": {},
   "outputs": [
    {
     "name": "stdout",
     "output_type": "stream",
     "text": [
      "16.0 0.003949772803445326\n"
     ]
    }
   ],
   "source": [
    "import scipy.stats as stats\n",
    "Med_A=[10, 12, 14, 11, 13]\n",
    "Med_B=[15, 17, 16, 14, 18]\n",
    "fvalue, pvalue = stats.f_oneway(Med_A,Med_B)\n",
    "print(fvalue, pvalue)\n"
   ]
  },
  {
   "cell_type": "markdown",
   "id": "64493063",
   "metadata": {},
   "source": [
    "Q10.Scenario: A company wants to analyze customer feedback ratings on a scale of 1 to 10. The data collected is\n",
    "\n",
    " as follows:\n",
    "    [8, 9, 7, 6, 8, 10, 9, 8, 7, 8]\n",
    "    Calculate the 75th percentile of the feedback ratings.\n"
   ]
  },
  {
   "cell_type": "code",
   "execution_count": 30,
   "id": "040a3e95",
   "metadata": {},
   "outputs": [
    {
     "data": {
      "text/plain": [
       "8.75"
      ]
     },
     "execution_count": 30,
     "metadata": {},
     "output_type": "execute_result"
    }
   ],
   "source": [
    "import numpy as np\n",
    "data=[8, 9, 7, 6, 8, 10, 9, 8, 7, 8]\n",
    "np.percentile(data, 75)\n"
   ]
  },
  {
   "cell_type": "markdown",
   "id": "76685268",
   "metadata": {},
   "source": [
    "Q11.Scenario: A quality control department wants to test the weight consistency of a product. The weights of a sample of products are as follows:\n",
    "    [10.2, 9.8, 10.0, 10.5, 10.3, 10.1]\n",
    "    Perform a hypothesis test to determine if the mean weight differs significantly from 10 grams.\n"
   ]
  },
  {
   "cell_type": "code",
   "execution_count": 31,
   "id": "bf0c93f7",
   "metadata": {},
   "outputs": [
    {
     "name": "stdout",
     "output_type": "stream",
     "text": [
      "10.15\n"
     ]
    }
   ],
   "source": [
    "weight=[10.2, 9.8, 10.0, 10.5, 10.3, 10.1]\n",
    "import numpy as np\n",
    "weight_mean=np.mean(weight)\n",
    "print(weight_mean)"
   ]
  },
  {
   "cell_type": "code",
   "execution_count": 32,
   "id": "40dfd9c1",
   "metadata": {},
   "outputs": [],
   "source": [
    "from scipy.stats import ttest_1samp"
   ]
  },
  {
   "cell_type": "code",
   "execution_count": 33,
   "id": "5f875f98",
   "metadata": {},
   "outputs": [],
   "source": [
    "ttest,p_value=ttest_1samp(weight,10)"
   ]
  },
  {
   "cell_type": "code",
   "execution_count": 34,
   "id": "7807dfc2",
   "metadata": {},
   "outputs": [
    {
     "name": "stdout",
     "output_type": "stream",
     "text": [
      "0.19077595151110102\n"
     ]
    }
   ],
   "source": [
    "print(p_value)"
   ]
  },
  {
   "cell_type": "code",
   "execution_count": 35,
   "id": "ef36c13d",
   "metadata": {},
   "outputs": [
    {
     "name": "stdout",
     "output_type": "stream",
     "text": [
      "We are excepting the Alternative hypothesis\n"
     ]
    }
   ],
   "source": [
    "if p_value<0.05:\n",
    "    print(\"We are rejecting the null hypothesis\")\n",
    "else:\n",
    "    print(\"We are excepting the Alternative hypothesis\")"
   ]
  },
  {
   "cell_type": "markdown",
   "id": "217b7d30",
   "metadata": {},
   "source": [
    "#### so,mean weight does not differ significantly from 10 grams"
   ]
  },
  {
   "cell_type": "markdown",
   "id": "36fad490",
   "metadata": {},
   "source": [
    "Q12.Scenario: A company wants to analyze the click-through rates of two different website designs. The number of clicks for each design is as follows:\n",
    "    Design A: [100, 120, 110, 90, 95]\n",
    "    Design B: [80, 85, 90, 95, 100]\n",
    "    Perform a chi-square test to determine if there is a significant difference in the click-through rates between the two designs.\n"
   ]
  },
  {
   "cell_type": "markdown",
   "id": "103d4752",
   "metadata": {},
   "source": [
    "Q13.Scenario: A survey is conducted to measure customer satisfaction with a product on a scale of 1 to 10. The data collected is as follows:\n",
    "    [7, 9, 6, 8, 10, 7, 8, 9, 7, 8]\n",
    "    Calculate the 95% confidence interval for the population mean satisfaction score.\n"
   ]
  },
  {
   "cell_type": "code",
   "execution_count": 39,
   "id": "5daee746",
   "metadata": {},
   "outputs": [
    {
     "data": {
      "text/plain": [
       "(7.043561120599888, 8.756438879400113)"
      ]
     },
     "execution_count": 39,
     "metadata": {},
     "output_type": "execute_result"
    }
   ],
   "source": [
    "import numpy as np\n",
    "import scipy.stats as st\n",
    "  \n",
    "  \n",
    "data = [7, 9, 6, 8, 10, 7, 8, 9, 7, 8]\n",
    "  \n",
    "# create 95% confidence interval\n",
    "st.t.interval(alpha=0.95, df=len(data)-1,\n",
    "              loc=np.mean(data),\n",
    "              scale=st.sem(data))\n",
    "  \n"
   ]
  },
  {
   "cell_type": "markdown",
   "id": "7bdb0523",
   "metadata": {},
   "source": [
    "Q14.Scenario: A company wants to analyze the effect of temperature on product performance. The data collected is as follows:\n",
    "    Temperature (in degrees Celsius): [20, 22, 23, 19, 21]\n",
    "    Performance (on a scale of 1 to 10): [8, 7, 9, 6, 8]\n",
    "    Perform a simple linear regression to predict performance based on temperature.\n"
   ]
  },
  {
   "cell_type": "code",
   "execution_count": 40,
   "id": "c943f1a0",
   "metadata": {},
   "outputs": [
    {
     "data": {
      "text/plain": [
       "LinearRegression()"
      ]
     },
     "execution_count": 40,
     "metadata": {},
     "output_type": "execute_result"
    }
   ],
   "source": [
    "import numpy as np\n",
    "import matplotlib.pyplot as plt\n",
    "from sklearn.linear_model import LinearRegression\n",
    "\n",
    "x=np.array([20, 22, 23, 19, 21])\n",
    "y=np.array([8, 7, 9, 6, 8])\n",
    "\n",
    "linreg=LinearRegression()\n",
    "\n",
    "X=x.reshape(-1,1)\n",
    "linreg.fit(X,y)\n"
   ]
  },
  {
   "cell_type": "code",
   "execution_count": 41,
   "id": "367d3e19",
   "metadata": {},
   "outputs": [],
   "source": [
    "y_pred=linreg.predict(X)"
   ]
  },
  {
   "cell_type": "code",
   "execution_count": 42,
   "id": "64e1d352",
   "metadata": {},
   "outputs": [
    {
     "data": {
      "text/plain": [
       "[<matplotlib.lines.Line2D at 0x2b15cf60bb0>]"
      ]
     },
     "execution_count": 42,
     "metadata": {},
     "output_type": "execute_result"
    },
    {
     "data": {
      "image/png": "[encoded data removed]",
      "text/plain": [
       "<Figure size 432x288 with 1 Axes>"
      ]
     },
     "metadata": {
      "needs_background": "light"
     },
     "output_type": "display_data"
    }
   ],
   "source": [
    "plt.scatter(X,y)\n",
    "plt.plot(X,y_pred,color='red')"
   ]
  },
  {
   "cell_type": "markdown",
   "id": "f880d2db",
   "metadata": {},
   "source": [
    "Q15.Scenario: A study is conducted to compare the preferences of two groups of participants. The preferences are measured on a Likert scale from 1 to 5. The data collected is as follows:\n",
    "    Group A: [4, 3, 5, 2, 4]\n",
    "    Group B: [3, 2, 4, 3, 3]\n",
    "    Perform a Mann-Whitney U test to determine if there is a significant difference in the median preferences between the two groups.\n"
   ]
  },
  {
   "cell_type": "code",
   "execution_count": 43,
   "id": "ffa9bbd8",
   "metadata": {},
   "outputs": [
    {
     "name": "stdout",
     "output_type": "stream",
     "text": [
      "Statistics=17.00, p=0.38\n",
      "Do not Reject Null Hypothesis (No significant difference between two samples)\n"
     ]
    }
   ],
   "source": [
    "from scipy.stats import mannwhitneyu\n",
    "# Take batch 1 and batch 2 data as per above example\n",
    "Group_A =[4, 3, 5, 2, 4]\n",
    "Group_B =[3, 2, 4, 3, 3]\n",
    "  \n",
    "# perform mann whitney test\n",
    "stat, p_value = mannwhitneyu(Group_A, Group_B)\n",
    "print('Statistics=%.2f, p=%.2f' % (stat, p_value))\n",
    "# Level of significance\n",
    "alpha = 0.05\n",
    "# conclusion\n",
    "if p_value < alpha:\n",
    "    print('Reject Null Hypothesis (Significant difference between two samples)')\n",
    "else:\n",
    "    print('Do not Reject Null Hypothesis (No significant difference between two samples)')"
   ]
  },
  {
   "cell_type": "markdown",
   "id": "011d7315",
   "metadata": {},
   "source": [
    "Q16.Scenario: A company wants to analyze the distribution of customer ages. The data collected is as follows:\n",
    "    [25, 30, 35, 40, 45, 50, 55, 60, 65, 70]\n",
    "    Calculate the interquartile range (IQR) of the ages.\n"
   ]
  },
  {
   "cell_type": "code",
   "execution_count": 44,
   "id": "00a65c49",
   "metadata": {},
   "outputs": [
    {
     "data": {
      "text/plain": [
       "22.5"
      ]
     },
     "execution_count": 44,
     "metadata": {},
     "output_type": "execute_result"
    }
   ],
   "source": [
    "import numpy as np\n",
    "\n",
    "#define array of data\n",
    "data = np.array([25, 30, 35, 40, 45, 50, 55, 60, 65, 70])\n",
    "\n",
    "#calculate interquartile range \n",
    "q3, q1 = np.percentile(data, [75 ,25])\n",
    "iqr = q3 - q1\n",
    "\n",
    "#display interquartile range \n",
    "iqr\n",
    "\n"
   ]
  },
  {
   "cell_type": "markdown",
   "id": "78aacd55",
   "metadata": {},
   "source": [
    " Q17.Scenario: A study is conducted to compare the performance of three different machine learning algorithms. The accuracy scores for each algorithm are as follows:\n",
    "    Algorithm A: [0.85, 0.80, 0.82, 0.87, 0.83]\n",
    "    Algorithm B: [0.78, 0.82, 0.84, 0.80, 0.79]\n",
    "    Algorithm C: [0.90, 0.88, 0.89, 0.86, 0.87]\n",
    "    Perform a Kruskal-Wallis test to determine if there is a significant difference in the median accuracy scores between the algorithms.\n"
   ]
  },
  {
   "cell_type": "code",
   "execution_count": 46,
   "id": "ea0d51da",
   "metadata": {},
   "outputs": [
    {
     "name": "stdout",
     "output_type": "stream",
     "text": [
      "KruskalResult(statistic=9.696947935368053, pvalue=0.007840333026249539)\n"
     ]
    }
   ],
   "source": [
    "from scipy import stats\n",
    " \n",
    "# Defining data groups\n",
    "Algo_A = [0.85, 0.80, 0.82, 0.87, 0.83]\n",
    "Algo_B = [0.78, 0.82, 0.84, 0.80, 0.79]\n",
    "Algo_C = [0.90, 0.88, 0.89, 0.86, 0.87]\n",
    " \n",
    "# Conduct the Kruskal-Wallis Test\n",
    "result = stats.kruskal(Algo_A,Algo_B,Algo_C)\n",
    " \n",
    "# Print the result\n",
    "print(result)"
   ]
  },
  {
   "cell_type": "markdown",
   "id": "5285a871",
   "metadata": {},
   "source": [
    "Q18.Scenario: A company wants to analyze the effect of price on sales. The data collected is as follows:\n",
    "    Price (in dollars): [10, 15, 12, 8, 14]\n",
    "    Sales: [100, 80, 90, 110, 95]\n",
    "    Perform a simple linear regression to predict\n",
    "\n",
    " sales based on price.\n"
   ]
  },
  {
   "cell_type": "code",
   "execution_count": 47,
   "id": "a1b026f9",
   "metadata": {},
   "outputs": [
    {
     "data": {
      "text/plain": [
       "LinearRegression()"
      ]
     },
     "execution_count": 47,
     "metadata": {},
     "output_type": "execute_result"
    }
   ],
   "source": [
    "import numpy as np\n",
    "import matplotlib.pyplot as plt\n",
    "from sklearn.linear_model import LinearRegression\n",
    "\n",
    "x=np.array([10, 15, 12, 8, 14])\n",
    "y=np.array([100, 80, 90, 110, 95])\n",
    "\n",
    "linreg=LinearRegression()\n",
    "X=x.reshape(-1,1)\n",
    "\n",
    "linreg.fit(X,y)\n"
   ]
  },
  {
   "cell_type": "code",
   "execution_count": 48,
   "id": "48cfab7d",
   "metadata": {},
   "outputs": [],
   "source": [
    "y_pred=linreg.predict(X)"
   ]
  },
  {
   "cell_type": "code",
   "execution_count": 49,
   "id": "7e470e34",
   "metadata": {},
   "outputs": [
    {
     "data": {
      "text/plain": [
       "[<matplotlib.lines.Line2D at 0x2b15cfef9a0>]"
      ]
     },
     "execution_count": 49,
     "metadata": {},
     "output_type": "execute_result"
    },
    {
     "data": {
      "image/png": "[encoded data removed]",
      "text/plain": [
       "<Figure size 432x288 with 1 Axes>"
      ]
     },
     "metadata": {
      "needs_background": "light"
     },
     "output_type": "display_data"
    }
   ],
   "source": [
    "plt.scatter(X,y)\n",
    "plt.plot(X,y_pred,color='red')"
   ]
  },
  {
   "cell_type": "markdown",
   "id": "98e11e91",
   "metadata": {},
   "source": [
    "Q19.Scenario: A survey is conducted to measure the satisfaction levels of customers with a new product. The data collected is as follows:\n",
    "    [7, 8, 9, 6, 8, 7, 9, 7, 8, 7]\n",
    "    Calculate the standard error of the mean satisfaction score.\n",
    "\n"
   ]
  },
  {
   "cell_type": "code",
   "execution_count": 50,
   "id": "19765c5b",
   "metadata": {},
   "outputs": [
    {
     "data": {
      "text/plain": [
       "0.30550504633038933"
      ]
     },
     "execution_count": 50,
     "metadata": {},
     "output_type": "execute_result"
    }
   ],
   "source": [
    "from scipy.stats import sem\n",
    "\n",
    "#define dataset \n",
    "data = [7, 8, 9, 6, 8, 7, 9, 7, 8, 7]\n",
    "\n",
    "#calculate standard error of the mean \n",
    "sem(data)\n",
    "\n"
   ]
  },
  {
   "cell_type": "markdown",
   "id": "848defce",
   "metadata": {},
   "source": [
    "Q20.Scenario: A company wants to analyze the relationship between advertising expenditure and sales. The data collected is as follows:\n",
    "    Advertising Expenditure (in thousands): [10, 15, 12, 8, 14]\n",
    "    Sales (in thousands): [25, 30, 28, 20, 26]\n",
    "    Perform a multiple regression analysis to predict sales based on advertising expenditure.\n",
    "\n"
   ]
  },
  {
   "cell_type": "code",
   "execution_count": 52,
   "id": "a9def77e",
   "metadata": {},
   "outputs": [
    {
     "name": "stdout",
     "output_type": "stream",
     "text": [
      "[1.15243902]\n"
     ]
    }
   ],
   "source": [
    "from sklearn.linear_model import LinearRegression\n",
    "import numpy as np\n",
    " \n",
    "# Assume you have independent variables X and a dependent variable y\n",
    "x = np.array([10,15,12,8,14])\n",
    "y = np.array([25,30,28,20,26])\n",
    " \n",
    "# Create an instance of the LinearRegression class\n",
    "reg = LinearRegression()\n",
    "X=x.reshape(-1,1)\n",
    " \n",
    "# Fit the model to the data\n",
    "reg.fit(X, y)\n",
    " \n",
    "# Print the coefficients of the model\n",
    "print(reg.coef_)"
   ]
  },
  {
   "cell_type": "code",
   "execution_count": null,
   "id": "18ce185e",
   "metadata": {},
   "outputs": [],
   "source": []
  }
 ],
 "metadata": {
  "kernelspec": {
   "display_name": "Python 3 (ipykernel)",
   "language": "python",
   "name": "python3"
  },
  "language_info": {
   "codemirror_mode": {
    "name": "ipython",
    "version": 3
   },
   "file_extension": ".py",
   "mimetype": "text/x-python",
   "name": "python",
   "nbconvert_exporter": "python",
   "pygments_lexer": "ipython3",
   "version": "3.9.12"
  }
 },
 "nbformat": 4,
 "nbformat_minor": 5
}
